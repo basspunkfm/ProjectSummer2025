{
 "cells": [
  {
   "cell_type": "code",
   "execution_count": 10,
   "metadata": {},
   "outputs": [
    {
     "name": "stdout",
     "output_type": "stream",
     "text": [
      "Species(N = 9) = {\n",
      "Z (@ 0),  complex[2x_Y:Z] (@ 0),  complex[2x_Y] (@ 0),  Y (@ 0),  complex[X:2x_Y:Z] (@ 0),  complex[2x_X:Z] (@ 0),  complex[2x_X:Y:Z] (@ 0),  complex[2x_X] (@ 0),  X (@ 0),  \n",
      "}\n",
      "\n",
      "Reactions (6) = [\n",
      "0. 2X <--> complex[2x_X]\n",
      " Kf=k_forward * X^2\n",
      " Kr=k_reverse * complex_X_2x_\n",
      "  k_forward=1\n",
      "  k_reverse=5e-07\n",
      "\n",
      "1. Z+complex[2x_X] <--> complex[2x_X:Z]\n",
      " Kf=k_forward * Z * complex_X_2x_\n",
      " Kr=k_reverse * complex_X_2x_Z_\n",
      "  k_forward=1\n",
      "  k_reverse=5e-07\n",
      "\n",
      "2. 2Y <--> complex[2x_Y]\n",
      " Kf=k_forward * Y^2\n",
      " Kr=k_reverse * complex_Y_2x_\n",
      "  k_forward=1\n",
      "  k_reverse=5e-07\n",
      "\n",
      "3. Z+complex[2x_Y] <--> complex[2x_Y:Z]\n",
      " Kf=k_forward * Z * complex_Y_2x_\n",
      " Kr=k_reverse * complex_Y_2x_Z_\n",
      "  k_forward=1\n",
      "  k_reverse=5e-07\n",
      "\n",
      "4. Y+complex[2x_X:Z] <--> complex[2x_X:Y:Z]\n",
      " Kf=k_forward * Y * complex_X_2x_Z_\n",
      " Kr=k_reverse * complex_X_2x_Y_Z_\n",
      "  k_forward=1\n",
      "  k_reverse=5e-07\n",
      "\n",
      "5. X+complex[2x_Y:Z] <--> complex[X:2x_Y:Z]\n",
      " Kf=k_forward * X * complex_Y_2x_Z_\n",
      " Kr=k_reverse * complex_X_Y_2x_Z_\n",
      "  k_forward=1\n",
      "  k_reverse=5e-07\n",
      "\n",
      "]\n"
     ]
    },
    {
     "data": {
      "text/plain": [
       "True"
      ]
     },
     "execution_count": 10,
     "metadata": {},
     "output_type": "execute_result"
    }
   ],
   "source": [
    "from biocrnpyler import * \n",
    "X, Y, Z = Species(\"X\"), Species(\"Y\"), Species(\"Z\")\n",
    "\n",
    "#Two different final states\n",
    "final_states = [Complex([X, X, Y, Z]), Complex([X, Y, Y, Z])] \n",
    "\n",
    "#Exclude all hetereodimers\n",
    "# we dont want binding outputs XY, XZ, YZ \n",
    "excluded_states = [Complex([X, Y]), Complex([X, Z]), Complex([Y, Z])] \n",
    "\n",
    "# however, we do want Z to bind to XX and Z onto YY before final states. \n",
    "#Force Z to bind to YY and XX before the final states can form\n",
    "intermediate_states = [Complex([X, X, Z]), Complex([Y, Y, Z])] \n",
    "\n",
    "CC = CombinatorialComplex(final_states = final_states, excluded_states = excluded_states, intermediate_states = intermediate_states)\n",
    "\n",
    "mech_bind = One_Step_Binding()\n",
    "default_mechanisms = {mech_bind.mechanism_type:mech_bind}\n",
    "\n",
    "#Make the Mixture\n",
    "default_parameters = {\"kb\":1, \"ku\":0.0000005}\n",
    "M = Mixture(\"CombinatorialComlex Mixture\", components = [CC], parameters = default_parameters, mechanisms = default_mechanisms)\n",
    "\n",
    "CRN = M.compile_crn()\n",
    "print(CRN.pretty_print(show_rates = True, show_keys = False))\n",
    "\n",
    "CRN.write_sbml_file('example.xml')"
   ]
  }
 ],
 "metadata": {
  "kernelspec": {
   "display_name": "Summer2025",
   "language": "python",
   "name": "python3"
  },
  "language_info": {
   "codemirror_mode": {
    "name": "ipython",
    "version": 3
   },
   "file_extension": ".py",
   "mimetype": "text/x-python",
   "name": "python",
   "nbconvert_exporter": "python",
   "pygments_lexer": "ipython3",
   "version": "3.11.11"
  }
 },
 "nbformat": 4,
 "nbformat_minor": 2
}
